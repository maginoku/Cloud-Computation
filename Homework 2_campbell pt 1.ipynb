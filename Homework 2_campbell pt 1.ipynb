{
 "cells": [
  {
   "cell_type": "code",
   "execution_count": 1,
   "metadata": {},
   "outputs": [],
   "source": [
    "# Initiate the spark session\n",
    "\n",
    "from pyspark.sql import SparkSession\n",
    "from pyspark import SparkContext, SparkConf, SparkContext\n",
    "sc = SparkContext()\n"
   ]
  },
  {
   "cell_type": "code",
   "execution_count": 10,
   "metadata": {},
   "outputs": [],
   "source": [
    "# Import essential packages into python\n",
    "\n",
    "import os\n",
    "import pyspark\n",
    "import random\n",
    "from numpy import array\n",
    "from math import sqrt\n",
    "\n",
    "# sc.setCheckpointDir('checkpoint')\n",
    "\n",
    "spark = SparkSession.builder.appName('Recommendations').getOrCreate()\n",
    "\n",
    "# Retrieve the essential spark packages\n",
    "from numpy import array\n",
    "from math import sqrt\n",
    "from pyspark.mllib.clustering import KMeans, KMeansModel\n",
    "from pyspark.ml.feature import VectorAssembler\n",
    "from pyspark.sql.functions import col, explode\n"
   ]
  },
  {
   "cell_type": "code",
   "execution_count": 7,
   "metadata": {},
   "outputs": [],
   "source": [
    "# import the csv into spark\n",
    "\n",
    "movies = spark.read.csv(\"/Users/magimac/Documents/Cloud Computation/Homework Assignments/Homework 2/movies.csv\", header = True)\n",
    "ratings = spark.read.csv(\"/Users/magimac/Documents/Cloud Computation/Homework Assignments/Homework 2/ratings.csv\", header = True)\n"
   ]
  },
  {
   "cell_type": "code",
   "execution_count": 11,
   "metadata": {},
   "outputs": [
    {
     "name": "stdout",
     "output_type": "stream",
     "text": [
      "+------+-------+------+\n",
      "|userID|MovieID|rating|\n",
      "+------+-------+------+\n",
      "|     1|   1193|   5.0|\n",
      "|     1|    661|   3.0|\n",
      "|     1|    914|   3.0|\n",
      "|     1|   3408|   4.0|\n",
      "|     1|   2355|   5.0|\n",
      "|     1|   1197|   3.0|\n",
      "|     1|   1287|   5.0|\n",
      "|     1|   2804|   5.0|\n",
      "|     1|    594|   4.0|\n",
      "|     1|    919|   4.0|\n",
      "|     1|    595|   5.0|\n",
      "|     1|    938|   4.0|\n",
      "|     1|   2398|   4.0|\n",
      "|     1|   2918|   4.0|\n",
      "|     1|   1035|   5.0|\n",
      "|     1|   2791|   4.0|\n",
      "|     1|   2687|   3.0|\n",
      "|     1|   2018|   4.0|\n",
      "|     1|   3105|   5.0|\n",
      "|     1|   2797|   4.0|\n",
      "+------+-------+------+\n",
      "only showing top 20 rows\n",
      "\n"
     ]
    }
   ],
   "source": [
    "# changing variables from strings to integer and floats.\n",
    "\n",
    "ratings = ratings.\\\n",
    "    withColumn('userID', col('userID').cast('integer')).\\\n",
    "    withColumn('MovieID', col('MovieID').cast('integer')).\\\n",
    "    withColumn('rating', col('rating').cast('float')).\\\n",
    "    drop('timestamp')\n",
    "ratings.show()\n"
   ]
  },
  {
   "cell_type": "code",
   "execution_count": 12,
   "metadata": {},
   "outputs": [
    {
     "name": "stdout",
     "output_type": "stream",
     "text": [
      "+-------+------+------+--------------------+--------------------+\n",
      "|MovieID|userID|rating|               Title|              Genres|\n",
      "+-------+------+------+--------------------+--------------------+\n",
      "|   1193|     1|   5.0|One Flew Over the...|               Drama|\n",
      "|    661|     1|   3.0|James and the Gia...|Animation|Childre...|\n",
      "|    914|     1|   3.0| My Fair Lady (1964)|     Musical|Romance|\n",
      "|   3408|     1|   4.0|Erin Brockovich (...|               Drama|\n",
      "|   2355|     1|   5.0|Bug's Life, A (1998)|Animation|Childre...|\n",
      "|   1197|     1|   3.0|Princess Bride, T...|Action|Adventure|...|\n",
      "|   1287|     1|   5.0|      Ben-Hur (1959)|Action|Adventure|...|\n",
      "|   2804|     1|   5.0|Christmas Story, ...|        Comedy|Drama|\n",
      "|    594|     1|   4.0|Snow White and th...|Animation|Childre...|\n",
      "|    919|     1|   4.0|Wizard of Oz, The...|Adventure|Childre...|\n",
      "|    595|     1|   5.0|Beauty and the Be...|Animation|Childre...|\n",
      "|    938|     1|   4.0|         Gigi (1958)|             Musical|\n",
      "|   2398|     1|   4.0|Miracle on 34th S...|               Drama|\n",
      "|   2918|     1|   4.0|Ferris Bueller's ...|              Comedy|\n",
      "|   1035|     1|   5.0|Sound of Music, T...|             Musical|\n",
      "|   2791|     1|   4.0|    Airplane! (1980)|              Comedy|\n",
      "|   2687|     1|   3.0|       Tarzan (1999)|Animation|Children's|\n",
      "|   2018|     1|   4.0|        Bambi (1942)|Animation|Children's|\n",
      "|   3105|     1|   5.0|   Awakenings (1990)|               Drama|\n",
      "|   2797|     1|   4.0|          Big (1988)|      Comedy|Fantasy|\n",
      "+-------+------+------+--------------------+--------------------+\n",
      "only showing top 20 rows\n",
      "\n"
     ]
    }
   ],
   "source": [
    "# Join both the data frames to add movie data into ratings data frame so we can see everything together\n",
    "\n",
    "movie_ratings = ratings.join(movies, ['movieId'], 'left')\n",
    "movie_ratings.show()\n"
   ]
  },
  {
   "cell_type": "code",
   "execution_count": 15,
   "metadata": {},
   "outputs": [
    {
     "name": "stdout",
     "output_type": "stream",
     "text": [
      "+-------+------+------+--------------------+--------------------+----------------+\n",
      "|MovieID|userID|rating|               Title|              Genres|        features|\n",
      "+-------+------+------+--------------------+--------------------+----------------+\n",
      "|   1193|     1|   5.0|One Flew Over the...|               Drama|[1193.0,1.0,5.0]|\n",
      "|    661|     1|   3.0|James and the Gia...|Animation|Childre...| [661.0,1.0,3.0]|\n",
      "|    914|     1|   3.0| My Fair Lady (1964)|     Musical|Romance| [914.0,1.0,3.0]|\n",
      "|   3408|     1|   4.0|Erin Brockovich (...|               Drama|[3408.0,1.0,4.0]|\n",
      "|   2355|     1|   5.0|Bug's Life, A (1998)|Animation|Childre...|[2355.0,1.0,5.0]|\n",
      "|   1197|     1|   3.0|Princess Bride, T...|Action|Adventure|...|[1197.0,1.0,3.0]|\n",
      "|   1287|     1|   5.0|      Ben-Hur (1959)|Action|Adventure|...|[1287.0,1.0,5.0]|\n",
      "|   2804|     1|   5.0|Christmas Story, ...|        Comedy|Drama|[2804.0,1.0,5.0]|\n",
      "|    594|     1|   4.0|Snow White and th...|Animation|Childre...| [594.0,1.0,4.0]|\n",
      "|    919|     1|   4.0|Wizard of Oz, The...|Adventure|Childre...| [919.0,1.0,4.0]|\n",
      "|    595|     1|   5.0|Beauty and the Be...|Animation|Childre...| [595.0,1.0,5.0]|\n",
      "|    938|     1|   4.0|         Gigi (1958)|             Musical| [938.0,1.0,4.0]|\n",
      "|   2398|     1|   4.0|Miracle on 34th S...|               Drama|[2398.0,1.0,4.0]|\n",
      "|   2918|     1|   4.0|Ferris Bueller's ...|              Comedy|[2918.0,1.0,4.0]|\n",
      "|   1035|     1|   5.0|Sound of Music, T...|             Musical|[1035.0,1.0,5.0]|\n",
      "|   2791|     1|   4.0|    Airplane! (1980)|              Comedy|[2791.0,1.0,4.0]|\n",
      "|   2687|     1|   3.0|       Tarzan (1999)|Animation|Children's|[2687.0,1.0,3.0]|\n",
      "|   2018|     1|   4.0|        Bambi (1942)|Animation|Children's|[2018.0,1.0,4.0]|\n",
      "|   3105|     1|   5.0|   Awakenings (1990)|               Drama|[3105.0,1.0,5.0]|\n",
      "|   2797|     1|   4.0|          Big (1988)|      Comedy|Fantasy|[2797.0,1.0,4.0]|\n",
      "+-------+------+------+--------------------+--------------------+----------------+\n",
      "only showing top 20 rows\n",
      "\n"
     ]
    }
   ],
   "source": [
    "vecAssembler = VectorAssembler(inputCols=['MovieID', 'userID', 'rating'], outputCol=\"features\")\n",
    "new_df = vecAssembler.transform(movie_ratings)\n",
    "new_df.show()"
   ]
  },
  {
   "cell_type": "code",
   "execution_count": 17,
   "metadata": {},
   "outputs": [
    {
     "ename": "TypeError",
     "evalue": "KMeans() takes no arguments",
     "output_type": "error",
     "traceback": [
      "\u001b[0;31m---------------------------------------------------------------------------\u001b[0m",
      "\u001b[0;31mTypeError\u001b[0m                                 Traceback (most recent call last)",
      "\u001b[0;32m<ipython-input-17-edb7ba1d4a7e>\u001b[0m in \u001b[0;36m<module>\u001b[0;34m\u001b[0m\n\u001b[0;32m----> 1\u001b[0;31m \u001b[0mkmeans\u001b[0m \u001b[0;34m=\u001b[0m \u001b[0mKMeans\u001b[0m\u001b[0;34m(\u001b[0m\u001b[0mk\u001b[0m \u001b[0;34m=\u001b[0m \u001b[0;36m2\u001b[0m\u001b[0;34m,\u001b[0m \u001b[0mseed\u001b[0m \u001b[0;34m=\u001b[0m \u001b[0;36m1\u001b[0m\u001b[0;34m)\u001b[0m  \u001b[0;31m# 2 clusters here\u001b[0m\u001b[0;34m\u001b[0m\u001b[0;34m\u001b[0m\u001b[0m\n\u001b[0m\u001b[1;32m      2\u001b[0m \u001b[0;31m#model = kmeans.fit(new_df.select('features'))\u001b[0m\u001b[0;34m\u001b[0m\u001b[0;34m\u001b[0m\u001b[0;34m\u001b[0m\u001b[0m\n",
      "\u001b[0;31mTypeError\u001b[0m: KMeans() takes no arguments"
     ]
    }
   ],
   "source": [
    "\n",
    "\n",
    "kmeans = KMeans(k = 2, seed = 1)  # 2 clusters here\n",
    "#model = kmeans.fit(new_df.select('features'))\n"
   ]
  },
  {
   "cell_type": "code",
   "execution_count": null,
   "metadata": {},
   "outputs": [],
   "source": []
  }
 ],
 "metadata": {
  "kernelspec": {
   "display_name": "Python 3",
   "language": "python",
   "name": "python3"
  },
  "language_info": {
   "codemirror_mode": {
    "name": "ipython",
    "version": 3
   },
   "file_extension": ".py",
   "mimetype": "text/x-python",
   "name": "python",
   "nbconvert_exporter": "python",
   "pygments_lexer": "ipython3",
   "version": "3.7.6"
  }
 },
 "nbformat": 4,
 "nbformat_minor": 4
}
