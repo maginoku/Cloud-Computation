{
 "cells": [
  {
   "cell_type": "code",
   "execution_count": 1,
   "metadata": {},
   "outputs": [],
   "source": [
    "# Import essential packages into python\n",
    "\n",
    "import pandas as pd\n",
    "from pyspark.sql.functions import col, explode\n",
    "from pyspark import SparkContext\n"
   ]
  },
  {
   "cell_type": "code",
   "execution_count": 60,
   "metadata": {},
   "outputs": [],
   "source": [
    "# Initiate the spark session\n",
    "\n",
    "from pyspark.sql import SparkSession\n",
    "sc = SparkContext\n",
    "\n",
    "# sc.setCheckpointDir('checkpoint')\n",
    "\n",
    "spark = SparkSession.builder.appName('Recommendations').getOrCreate()\n",
    "\n",
    "# Retrieve the essential spark packages\n",
    "\n",
    "import os\n",
    "import pyspark\n",
    "import random\n",
    "\n",
    "import sys\n",
    "import itertools\n",
    "from math import sqrt\n",
    "from operator import add\n",
    "from os.path import join, isfile, dirname\n",
    "\n",
    "from pyspark import SparkConf, SparkContext\n",
    "from pyspark.ml.evaluation import RegressionEvaluator\n",
    "from pyspark.ml.recommendation import ALS\n",
    "from pyspark.ml.tuning import ParamGridBuilder, CrossValidator\n",
    "from pyspark.sql import SparkSession\n",
    "from pyspark.sql import functions as F\n"
   ]
  },
  {
   "cell_type": "code",
   "execution_count": 61,
   "metadata": {},
   "outputs": [
    {
     "name": "stdout",
     "output_type": "stream",
     "text": [
      "-------------------------- QUESTION 1 --------------------------\n"
     ]
    }
   ],
   "source": [
    "print('-------------------------- QUESTION 1 --------------------------')"
   ]
  },
  {
   "cell_type": "code",
   "execution_count": null,
   "metadata": {},
   "outputs": [],
   "source": []
  },
  {
   "cell_type": "code",
   "execution_count": null,
   "metadata": {},
   "outputs": [],
   "source": []
  },
  {
   "cell_type": "code",
   "execution_count": null,
   "metadata": {},
   "outputs": [],
   "source": []
  },
  {
   "cell_type": "code",
   "execution_count": 52,
   "metadata": {},
   "outputs": [
    {
     "name": "stdout",
     "output_type": "stream",
     "text": [
      "-------------------------- QUESTION 2 --------------------------\n"
     ]
    }
   ],
   "source": [
    "print('-------------------------- QUESTION 2 --------------------------')"
   ]
  },
  {
   "cell_type": "code",
   "execution_count": 3,
   "metadata": {},
   "outputs": [],
   "source": [
    "# import the csv into spark\n",
    "\n",
    "movies = spark.read.csv(\"movies.csv\", header = True)\n",
    "ratings = spark.read.csv(\"ratings.csv\", header = True)"
   ]
  },
  {
   "cell_type": "code",
   "execution_count": 9,
   "metadata": {},
   "outputs": [
    {
     "name": "stdout",
     "output_type": "stream",
     "text": [
      "+------+-------+------+\n",
      "|userID|MovieID|rating|\n",
      "+------+-------+------+\n",
      "|     1|   1193|   5.0|\n",
      "|     1|    661|   3.0|\n",
      "|     1|    914|   3.0|\n",
      "|     1|   3408|   4.0|\n",
      "|     1|   2355|   5.0|\n",
      "|     1|   1197|   3.0|\n",
      "|     1|   1287|   5.0|\n",
      "|     1|   2804|   5.0|\n",
      "|     1|    594|   4.0|\n",
      "|     1|    919|   4.0|\n",
      "|     1|    595|   5.0|\n",
      "|     1|    938|   4.0|\n",
      "|     1|   2398|   4.0|\n",
      "|     1|   2918|   4.0|\n",
      "|     1|   1035|   5.0|\n",
      "|     1|   2791|   4.0|\n",
      "|     1|   2687|   3.0|\n",
      "|     1|   2018|   4.0|\n",
      "|     1|   3105|   5.0|\n",
      "|     1|   2797|   4.0|\n",
      "+------+-------+------+\n",
      "only showing top 20 rows\n",
      "\n"
     ]
    }
   ],
   "source": [
    "# changing variables from strings to integer and floats.\n",
    "\n",
    "ratings = ratings.\\\n",
    "    withColumn('userID', col('userID').cast('integer')).\\\n",
    "    withColumn('MovieID', col('MovieID').cast('integer')).\\\n",
    "    withColumn('rating', col('rating').cast('float')).\\\n",
    "    drop('timestamp')\n",
    "\n",
    "ratings.show()"
   ]
  },
  {
   "cell_type": "code",
   "execution_count": 11,
   "metadata": {},
   "outputs": [
    {
     "name": "stdout",
     "output_type": "stream",
     "text": [
      "+-------+------+------+--------------------+--------------------+\n",
      "|MovieID|userID|rating|               Title|              Genres|\n",
      "+-------+------+------+--------------------+--------------------+\n",
      "|   1193|     1|   5.0|One Flew Over the...|               Drama|\n",
      "|    661|     1|   3.0|James and the Gia...|Animation|Childre...|\n",
      "|    914|     1|   3.0| My Fair Lady (1964)|     Musical|Romance|\n",
      "|   3408|     1|   4.0|Erin Brockovich (...|               Drama|\n",
      "|   2355|     1|   5.0|Bug's Life, A (1998)|Animation|Childre...|\n",
      "|   1197|     1|   3.0|Princess Bride, T...|Action|Adventure|...|\n",
      "|   1287|     1|   5.0|      Ben-Hur (1959)|Action|Adventure|...|\n",
      "|   2804|     1|   5.0|Christmas Story, ...|        Comedy|Drama|\n",
      "|    594|     1|   4.0|Snow White and th...|Animation|Childre...|\n",
      "|    919|     1|   4.0|Wizard of Oz, The...|Adventure|Childre...|\n",
      "|    595|     1|   5.0|Beauty and the Be...|Animation|Childre...|\n",
      "|    938|     1|   4.0|         Gigi (1958)|             Musical|\n",
      "|   2398|     1|   4.0|Miracle on 34th S...|               Drama|\n",
      "|   2918|     1|   4.0|Ferris Bueller's ...|              Comedy|\n",
      "|   1035|     1|   5.0|Sound of Music, T...|             Musical|\n",
      "|   2791|     1|   4.0|    Airplane! (1980)|              Comedy|\n",
      "|   2687|     1|   3.0|       Tarzan (1999)|Animation|Children's|\n",
      "|   2018|     1|   4.0|        Bambi (1942)|Animation|Children's|\n",
      "|   3105|     1|   5.0|   Awakenings (1990)|               Drama|\n",
      "|   2797|     1|   4.0|          Big (1988)|      Comedy|Fantasy|\n",
      "+-------+------+------+--------------------+--------------------+\n",
      "only showing top 20 rows\n",
      "\n"
     ]
    }
   ],
   "source": [
    "# Join both the data frames to add movie data into ratings data frame so we can see everything together\n",
    "\n",
    "movie_ratings = ratings.join(movies, ['movieId'], 'left')\n",
    "movie_ratings.show()"
   ]
  },
  {
   "cell_type": "code",
   "execution_count": 12,
   "metadata": {},
   "outputs": [],
   "source": [
    "# Create test and train set\n",
    "\n",
    "(train, test) = ratings.randomSplit([0.8, 0.2], seed = 2021)"
   ]
  },
  {
   "cell_type": "code",
   "execution_count": 15,
   "metadata": {},
   "outputs": [],
   "source": [
    "# we will make a function to determine whether or not an individual has watch the movie\n",
    "\n",
    "def get_binary_data(ratings):\n",
    "    ratings = ratings.withColumn('binary', F.lit(1))\n",
    "    userIDs = ratings.select(\"userID\").distinct()\n",
    "    movieIDs = ratings.select(\"MovieID\").distinct()\n",
    "\n",
    "    user_movie = userIDs.crossJoin(movieIDs).join(ratings, ['userID', 'MovieID'], \"left\")\n",
    "    user_movie = user_movie.select(['userID', 'MovieID', 'binary']).fillna(0)\n",
    "    return user_movie\n",
    "\n",
    "user_movie = get_binary_data(ratings)"
   ]
  },
  {
   "cell_type": "code",
   "execution_count": 16,
   "metadata": {},
   "outputs": [],
   "source": [
    "# Create ALS model so we can run our models through it.\n",
    "\n",
    "als = ALS(\n",
    "         userCol=\"userID\", \n",
    "         itemCol=\"MovieID\",\n",
    "         ratingCol=\"rating\", \n",
    "         nonnegative = True, \n",
    "         implicitPrefs = False,\n",
    "         coldStartStrategy=\"drop\"\n",
    ")"
   ]
  },
  {
   "cell_type": "code",
   "execution_count": 17,
   "metadata": {},
   "outputs": [],
   "source": [
    "# Add hyperparameters and their respective values to param_grid we will be testing 9 different models\n",
    "\n",
    "param_grid = ParamGridBuilder() \\\n",
    "            .addGrid(als.rank, [10, 50, 100]) \\\n",
    "            .addGrid(als.regParam, [.01, .05, .1]) \\\n",
    "            .build()\n"
   ]
  },
  {
   "cell_type": "code",
   "execution_count": 18,
   "metadata": {},
   "outputs": [
    {
     "name": "stdout",
     "output_type": "stream",
     "text": [
      "The number models which will be tested will be:  9\n"
     ]
    }
   ],
   "source": [
    "# here we will define the evaluator as an RMSE and print the length.\n",
    "\n",
    "evaluator = RegressionEvaluator(\n",
    "           metricName=\"rmse\", \n",
    "           labelCol=\"rating\", \n",
    "           predictionCol=\"prediction\") \n",
    "\n",
    "print (\"The number models which will be tested will be: \", len(param_grid))\n"
   ]
  },
  {
   "cell_type": "code",
   "execution_count": 19,
   "metadata": {},
   "outputs": [],
   "source": [
    "# Build the cross validation using the CrossValidator function I wil be using 6 folds for this assignment.\n",
    "\n",
    "cv = CrossValidator(estimator = als, estimatorParamMaps = param_grid, evaluator = evaluator, numFolds = 6)"
   ]
  },
  {
   "cell_type": "code",
   "execution_count": 20,
   "metadata": {},
   "outputs": [
    {
     "name": "stdout",
     "output_type": "stream",
     "text": [
      "0.8519728058640155\n"
     ]
    }
   ],
   "source": [
    "# Fit cross validator to the 'train' dataset\n",
    "model = cv.fit(train)\n",
    "\n",
    "# Extract best model from the cv model above\n",
    "best_model = model.bestModel\n",
    "\n",
    "# After we will print the score and see what the results are\n",
    "test_predictions = best_model.transform(test)\n",
    "RMSE = evaluator.evaluate(test_predictions)\n",
    "print(RMSE)"
   ]
  },
  {
   "cell_type": "code",
   "execution_count": 57,
   "metadata": {},
   "outputs": [
    {
     "name": "stdout",
     "output_type": "stream",
     "text": [
      "::Best Model::\n",
      "  Rank: 100\n",
      "  Max Iterations: 10\n",
      "  RegParam: 0.05\n"
     ]
    }
   ],
   "source": [
    "# Here we are checking which parametre out of 9 is the best model\n",
    "\n",
    "print(\"::Best Model::\")\n",
    "print(\"  Rank:\", best_model._java_obj.parent().getRank())\n",
    "print(\"  Max Iterations:\", best_model._java_obj.parent().getMaxIter())\n",
    "print(\"  RegParam:\", best_model._java_obj.parent().getRegParam())\n",
    "\n",
    "\n"
   ]
  },
  {
   "cell_type": "code",
   "execution_count": 29,
   "metadata": {},
   "outputs": [
    {
     "name": "stdout",
     "output_type": "stream",
     "text": [
      "+------+-------+---------+\n",
      "|userID|MovieID|   rating|\n",
      "+------+-------+---------+\n",
      "|  1580|   3010| 4.483064|\n",
      "|  1580|   1423| 4.458513|\n",
      "|  1580|   2609| 4.452656|\n",
      "|  1580|    978|4.4285493|\n",
      "|  1580|   1111|4.4222517|\n",
      "|  4900|   1421|5.2794046|\n",
      "|  4900|    318|5.2740226|\n",
      "|  4900|   1900| 5.238463|\n",
      "|  4900|   2019| 5.236742|\n",
      "|  4900|   3338|5.2089295|\n",
      "+------+-------+---------+\n",
      "\n"
     ]
    }
   ],
   "source": [
    "# Here we are going to generate n Recommendations for all users\n",
    "\n",
    "n_recommendations = best_model.recommendForAllUsers(5)\n",
    "\n",
    "n_recommendations = n_recommendations\\\n",
    "    .withColumn(\"rec_exp\", explode(\"recommendations\"))\\\n",
    "    .select('userID', col(\"rec_exp.MovieID\"), col(\"rec_exp.rating\"))\n",
    "\n",
    "n_recommendations.limit(10).show()\n"
   ]
  },
  {
   "cell_type": "code",
   "execution_count": 50,
   "metadata": {},
   "outputs": [
    {
     "name": "stdout",
     "output_type": "stream",
     "text": [
      "----- Users Choice of Movies -----\n",
      "+-------+------+---------+--------------------+--------------------+\n",
      "|MovieID|userID|   rating|               Title|              Genres|\n",
      "+-------+------+---------+--------------------+--------------------+\n",
      "|    260|  1000| 5.041031|Star Wars: Episod...|Action|Adventure|...|\n",
      "|    318|  1000|4.9599986|Shawshank Redempt...|               Drama|\n",
      "|   2571|  1000|4.9124155|  Matrix, The (1999)|Action|Sci-Fi|Thr...|\n",
      "|    527|  1000|  4.88983|Schindler's List ...|           Drama|War|\n",
      "|   1198|  1000| 4.885619|Raiders of the Lo...|    Action|Adventure|\n",
      "+-------+------+---------+--------------------+--------------------+\n",
      "\n",
      "----- Recommended Movies to Watch ------\n",
      "+-------+------+------+--------------------+--------------------+\n",
      "|MovieID|userID|rating|               Title|              Genres|\n",
      "+-------+------+------+--------------------+--------------------+\n",
      "|   1610|  1000|   5.0|Hunt for Red Octo...|     Action|Thriller|\n",
      "|    858|  1000|   5.0|Godfather, The (1...|  Action|Crime|Drama|\n",
      "|    589|  1000|   5.0|Terminator 2: Jud...|Action|Sci-Fi|Thr...|\n",
      "|      1|  1000|   5.0|    Toy Story (1995)|Animation|Childre...|\n",
      "|    595|  1000|   5.0|Beauty and the Be...|Animation|Childre...|\n",
      "|   1291|  1000|   5.0|Indiana Jones and...|    Action|Adventure|\n",
      "|   3068|  1000|   5.0| Verdict, The (1982)|               Drama|\n",
      "|   3405|  1000|   5.0|Night to Remember...|        Action|Drama|\n",
      "|   3418|  1000|   5.0|Thelma & Louise (...|        Action|Drama|\n",
      "|    260|  1000|   5.0|Star Wars: Episod...|Action|Adventure|...|\n",
      "|   1104|  1000|   5.0|Streetcar Named D...|               Drama|\n",
      "|   2857|  1000|   5.0|Yellow Submarine ...|   Animation|Musical|\n",
      "|    457|  1000|   5.0|Fugitive, The (1993)|     Action|Thriller|\n",
      "|   1198|  1000|   5.0|Raiders of the Lo...|    Action|Adventure|\n",
      "|   3114|  1000|   5.0|  Toy Story 2 (1999)|Animation|Childre...|\n",
      "|   1374|  1000|   5.0|Star Trek: The Wr...|Action|Adventure|...|\n",
      "|   2194|  1000|   5.0|Untouchables, The...|  Action|Crime|Drama|\n",
      "|   2355|  1000|   5.0|Bug's Life, A (1998)|Animation|Childre...|\n",
      "|    110|  1000|   5.0|   Braveheart (1995)|    Action|Drama|War|\n",
      "|   3363|  1000|   5.0|American Graffiti...|        Comedy|Drama|\n",
      "+-------+------+------+--------------------+--------------------+\n",
      "\n"
     ]
    }
   ],
   "source": [
    "# Making sure the recommender is running properly we will test and see if user 1000 is accurate\n",
    "\n",
    "print('----- Users Choice of Movies -----')\n",
    "n_recommendations.join(movies, on = 'movieID').filter('userID = 1000').show()\n",
    "\n",
    "print('----- Recommended Movies to Watch ------')\n",
    "ratings.join(movies, on = 'movieID').filter('userID = 1000').sort('rating', ascending=False).limit(20).show()"
   ]
  },
  {
   "cell_type": "code",
   "execution_count": null,
   "metadata": {},
   "outputs": [],
   "source": []
  },
  {
   "cell_type": "code",
   "execution_count": null,
   "metadata": {},
   "outputs": [],
   "source": []
  }
 ],
 "metadata": {
  "kernelspec": {
   "display_name": "Python 3",
   "language": "python",
   "name": "python3"
  },
  "language_info": {
   "codemirror_mode": {
    "name": "ipython",
    "version": 3
   },
   "file_extension": ".py",
   "mimetype": "text/x-python",
   "name": "python",
   "nbconvert_exporter": "python",
   "pygments_lexer": "ipython3",
   "version": "3.7.6"
  }
 },
 "nbformat": 4,
 "nbformat_minor": 4
}
