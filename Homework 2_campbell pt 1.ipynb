{
 "cells": [
  {
   "cell_type": "code",
   "execution_count": 1,
   "metadata": {},
   "outputs": [],
   "source": [
    "# Initiate the spark session\n",
    "\n",
    "from pyspark.sql import SparkSession\n",
    "from pyspark import SparkContext, SparkConf\n"
   ]
  },
  {
   "cell_type": "code",
   "execution_count": 2,
   "metadata": {},
   "outputs": [],
   "source": [
    "# Import essential packages into python\n",
    "\n",
    "import os\n",
    "import pyspark\n",
    "import random\n",
    "import numpy as np\n",
    "from numpy import array\n",
    "from math import sqrt\n",
    "import matplotlib.pyplot as plt\n",
    "from matplotlib.pyplot import plot as plt\n",
    "\n",
    "# sc.setCheckpointDir('checkpoint')\n",
    "\n",
    "sc = SparkSession.builder.appName(\"Homework 2\").getOrCreate()\n",
    "\n",
    "# Retrieve the essential spark packages\n",
    "from numpy import array\n",
    "from math import sqrt\n",
    "from pyspark.ml.clustering import KMeans\n",
    "from pyspark.ml.feature import VectorAssembler, CountVectorizer\n",
    "from pyspark.sql.functions import col, explode, split\n",
    "from pyspark.ml.evaluation import ClusteringEvaluator\n",
    "from pyspark.sql import functions as f\n",
    "\n"
   ]
  },
  {
   "cell_type": "code",
   "execution_count": 3,
   "metadata": {},
   "outputs": [
    {
     "name": "stdout",
     "output_type": "stream",
     "text": [
      "-------------------------- QUESTION 1 --------------------------\n"
     ]
    }
   ],
   "source": [
    "print('-------------------------- QUESTION 1 --------------------------')"
   ]
  },
  {
   "cell_type": "code",
   "execution_count": 4,
   "metadata": {},
   "outputs": [],
   "source": [
    "# import the csv into spark\n",
    "\n",
    "movies = sc.read.option(\"header\",\"true\").option(\"inferSchema\",\"true\").format(\"csv\")\\\n",
    ".load(\"movies.csv\")\n",
    "ratings = sc.read.option(\"header\",\"true\").option(\"inferSchema\",\"true\").format(\"csv\")\\\n",
    ".load(\"ratings.csv\")"
   ]
  },
  {
   "cell_type": "code",
   "execution_count": 5,
   "metadata": {},
   "outputs": [
    {
     "name": "stdout",
     "output_type": "stream",
     "text": [
      "+-------+------+------+---------+--------------------+--------------------+\n",
      "|MovieID|userID|Rating|TimeStamp|               Title|              Genres|\n",
      "+-------+------+------+---------+--------------------+--------------------+\n",
      "|   1193|     1|     5|978300760|One Flew Over the...|               Drama|\n",
      "|    661|     1|     3|978302109|James and the Gia...|Animation|Childre...|\n",
      "|    914|     1|     3|978301968| My Fair Lady (1964)|     Musical|Romance|\n",
      "|   3408|     1|     4|978300275|Erin Brockovich (...|               Drama|\n",
      "|   2355|     1|     5|978824291|Bug's Life, A (1998)|Animation|Childre...|\n",
      "|   1197|     1|     3|978302268|Princess Bride, T...|Action|Adventure|...|\n",
      "|   1287|     1|     5|978302039|      Ben-Hur (1959)|Action|Adventure|...|\n",
      "|   2804|     1|     5|978300719|Christmas Story, ...|        Comedy|Drama|\n",
      "|    594|     1|     4|978302268|Snow White and th...|Animation|Childre...|\n",
      "|    919|     1|     4|978301368|Wizard of Oz, The...|Adventure|Childre...|\n",
      "|    595|     1|     5|978824268|Beauty and the Be...|Animation|Childre...|\n",
      "|    938|     1|     4|978301752|         Gigi (1958)|             Musical|\n",
      "|   2398|     1|     4|978302281|Miracle on 34th S...|               Drama|\n",
      "|   2918|     1|     4|978302124|Ferris Bueller's ...|              Comedy|\n",
      "|   1035|     1|     5|978301753|Sound of Music, T...|             Musical|\n",
      "|   2791|     1|     4|978302188|    Airplane! (1980)|              Comedy|\n",
      "|   2687|     1|     3|978824268|       Tarzan (1999)|Animation|Children's|\n",
      "|   2018|     1|     4|978301777|        Bambi (1942)|Animation|Children's|\n",
      "|   3105|     1|     5|978301713|   Awakenings (1990)|               Drama|\n",
      "|   2797|     1|     4|978302039|          Big (1988)|      Comedy|Fantasy|\n",
      "+-------+------+------+---------+--------------------+--------------------+\n",
      "only showing top 20 rows\n",
      "\n"
     ]
    }
   ],
   "source": [
    "# Join both the data frames to add movie data into ratings data frame so we can see everything together\n",
    "\n",
    "movie_ratings = ratings.join(movies, ['movieId'], 'left')\n",
    "movie_ratings.show()\n"
   ]
  },
  {
   "cell_type": "code",
   "execution_count": 6,
   "metadata": {},
   "outputs": [],
   "source": [
    "# We need to change the genre from strings to array of strings.\n",
    "# movie_ratings will have the genre column changed to an array of strings make sure you save the changes to another variable\n",
    "\n",
    "movie_mod = movie_ratings.withColumn('Genres',split(col('Genres'),'\\|').alias('Genres')).drop('TimeStamp')\n",
    "                      "
   ]
  },
  {
   "cell_type": "code",
   "execution_count": 7,
   "metadata": {},
   "outputs": [
    {
     "name": "stdout",
     "output_type": "stream",
     "text": [
      "+-------+------+------+--------------------+--------------------+\n",
      "|MovieID|userID|Rating|               Title|              Genres|\n",
      "+-------+------+------+--------------------+--------------------+\n",
      "|   1193|     1|     5|One Flew Over the...|             [Drama]|\n",
      "|    661|     1|     3|James and the Gia...|[Animation, Child...|\n",
      "|    914|     1|     3| My Fair Lady (1964)|  [Musical, Romance]|\n",
      "|   3408|     1|     4|Erin Brockovich (...|             [Drama]|\n",
      "|   2355|     1|     5|Bug's Life, A (1998)|[Animation, Child...|\n",
      "|   1197|     1|     3|Princess Bride, T...|[Action, Adventur...|\n",
      "|   1287|     1|     5|      Ben-Hur (1959)|[Action, Adventur...|\n",
      "|   2804|     1|     5|Christmas Story, ...|     [Comedy, Drama]|\n",
      "|    594|     1|     4|Snow White and th...|[Animation, Child...|\n",
      "|    919|     1|     4|Wizard of Oz, The...|[Adventure, Child...|\n",
      "|    595|     1|     5|Beauty and the Be...|[Animation, Child...|\n",
      "|    938|     1|     4|         Gigi (1958)|           [Musical]|\n",
      "|   2398|     1|     4|Miracle on 34th S...|             [Drama]|\n",
      "|   2918|     1|     4|Ferris Bueller's ...|            [Comedy]|\n",
      "|   1035|     1|     5|Sound of Music, T...|           [Musical]|\n",
      "|   2791|     1|     4|    Airplane! (1980)|            [Comedy]|\n",
      "|   2687|     1|     3|       Tarzan (1999)|[Animation, Child...|\n",
      "|   2018|     1|     4|        Bambi (1942)|[Animation, Child...|\n",
      "|   3105|     1|     5|   Awakenings (1990)|             [Drama]|\n",
      "|   2797|     1|     4|          Big (1988)|   [Comedy, Fantasy]|\n",
      "+-------+------+------+--------------------+--------------------+\n",
      "only showing top 20 rows\n",
      "\n"
     ]
    }
   ],
   "source": [
    "# here you can see the changes we correctly made\n",
    "\n",
    "movie_mod.show()"
   ]
  },
  {
   "cell_type": "code",
   "execution_count": 8,
   "metadata": {},
   "outputs": [],
   "source": [
    "# From here we can make preperations to do the kmeans algorithm\n",
    "\n",
    "cvec = CountVectorizer(inputCol = 'Genres', outputCol = \"features\")\n",
    "\n",
    "model = cvec.fit(movie_mod)\n",
    "tmp = model.transform(movie_mod)"
   ]
  },
  {
   "cell_type": "code",
   "execution_count": 9,
   "metadata": {},
   "outputs": [
    {
     "data": {
      "image/png": "[encoded data removed]",
      "text/plain": [
       "<Figure size 432x288 with 1 Axes>"
      ]
     },
     "metadata": {
      "needs_background": "light"
     },
     "output_type": "display_data"
    }
   ],
   "source": [
    "def plot_Sil_k_means(input, maxClust):\n",
    "    sil_count_vec = []\n",
    "    x = [*range(2, maxClust, 1)]\n",
    "    for value in x:\n",
    "        kmeans = KMeans().setK(value).setSeed(2021)\n",
    "        model_cvec = kmeans.fit(input)\n",
    "        preds = model_cvec.transform(input)\n",
    "        eval_CV = ClusteringEvaluator()\n",
    "        silh_CV = eval_CV.evaluate(preds)\n",
    "        sil_count_vec.append(silh_CV)\n",
    "    plt(x, sil_count_vec)    \n",
    "\n",
    "plot_Sil_k_means(tmp, 18)    "
   ]
  },
  {
   "cell_type": "code",
   "execution_count": 10,
   "metadata": {},
   "outputs": [],
   "source": [
    "# here we will define our k means and use k=5 as our optimal K\n",
    "\n",
    "model_kmeans = KMeans().setK(5).setSeed(209)\n"
   ]
  },
  {
   "cell_type": "code",
   "execution_count": 11,
   "metadata": {},
   "outputs": [],
   "source": [
    "# then We will apply the model to our dataset.\n",
    "\n",
    "movie_ratings_kmeans = model_kmeans.fit(tmp)"
   ]
  },
  {
   "cell_type": "code",
   "execution_count": 12,
   "metadata": {},
   "outputs": [
    {
     "data": {
      "text/plain": [
       "[Row(SQRT((sum(diff) / count(diff)))=0.9967508344070068)]"
      ]
     },
     "execution_count": 12,
     "metadata": {},
     "output_type": "execute_result"
    }
   ],
   "source": [
    "# set up the predictions and from there find the RSME  \n",
    "\n",
    "prediction = movie_ratings_kmeans.transform(tmp)\\\n",
    "                             .sort(\"userID\")\\\n",
    "                             .drop(\"Features\").withColumnRenamed(\"prediction\", \"cluster\")\n",
    "\n",
    "movie_ratings_2 = prediction.groupby(\"cluster\", \"userID\").avg(\"rating\").sort(\"userID\")\n",
    "movie_ratings_2 = prediction.join(movie_ratings_2, [\"cluster\", \"userID\"], \"left\").sort(\"userID\")\n",
    "\n",
    "movie_ratings_2 = movie_ratings_2.withColumn(\"diff\", pow(movie_ratings_2[\"avg(rating)\"] - movie_ratings_2[\"rating\"], 2))\n",
    "\n",
    "RSME = movie_ratings_2.groupBy().agg(f.sqrt(f.sum(\"diff\")/f.count(\"diff\"))).collect()\n",
    "\n",
    "RSME\n"
   ]
  }
 ],
 "metadata": {
  "kernelspec": {
   "display_name": "Python 3",
   "language": "python",
   "name": "python3"
  },
  "language_info": {
   "codemirror_mode": {
    "name": "ipython",
    "version": 3
   },
   "file_extension": ".py",
   "mimetype": "text/x-python",
   "name": "python",
   "nbconvert_exporter": "python",
   "pygments_lexer": "ipython3",
   "version": "3.7.6"
  }
 },
 "nbformat": 4,
 "nbformat_minor": 4
}
